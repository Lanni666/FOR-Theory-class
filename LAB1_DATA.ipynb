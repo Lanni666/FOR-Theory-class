{
  "nbformat": 4,
  "nbformat_minor": 0,
  "metadata": {
    "colab": {
      "provenance": []
    },
    "kernelspec": {
      "name": "python3",
      "display_name": "Python 3"
    },
    "language_info": {
      "name": "python"
    }
  },
  "cells": [
    {
      "cell_type": "code",
      "execution_count": 1,
      "metadata": {
        "id": "UuqD_5I4YDED"
      },
      "outputs": [],
      "source": [
        "#load data"
      ]
    },
    {
      "cell_type": "code",
      "source": [
        "from __future__ import division\n",
        "import pandas as pd\n",
        "import numpy as np\n",
        "import statsmodels.api as sm\n",
        "import statsmodels.formula.api as smf\n",
        "import os\n",
        "import matplotlib.pyplot as plt\n",
        "from scipy.stats import skew, kurtosis\n",
        "import seaborn as sns"
      ],
      "metadata": {
        "id": "jxiag67bYbUR"
      },
      "execution_count": 2,
      "outputs": []
    },
    {
      "cell_type": "code",
      "source": [
        "url = 'https://raw.githubusercontent.com/fivethirtyeight/data/master/candy-power-ranking/candy-data.csv'\n",
        "df = pd.read_csv(url)"
      ],
      "metadata": {
        "id": "kRJZjsanY_vR"
      },
      "execution_count": 3,
      "outputs": []
    },
    {
      "cell_type": "code",
      "source": [
        "df.head()"
      ],
      "metadata": {
        "colab": {
          "base_uri": "https://localhost:8080/",
          "height": 206
        },
        "id": "Za9bW5DXZJ9D",
        "outputId": "7a2a9c42-76e4-4dbc-d477-df6ffe3838e4"
      },
      "execution_count": 8,
      "outputs": [
        {
          "output_type": "execute_result",
          "data": {
            "text/plain": [
              "  competitorname  chocolate  fruity  caramel  peanutyalmondy  nougat  \\\n",
              "0      100 Grand          1       0        1               0       0   \n",
              "1   3 Musketeers          1       0        0               0       1   \n",
              "2       One dime          0       0        0               0       0   \n",
              "3    One quarter          0       0        0               0       0   \n",
              "4      Air Heads          0       1        0               0       0   \n",
              "\n",
              "   crispedricewafer  hard  bar  pluribus  sugarpercent  pricepercent  \\\n",
              "0                 1     0    1         0         0.732         0.860   \n",
              "1                 0     0    1         0         0.604         0.511   \n",
              "2                 0     0    0         0         0.011         0.116   \n",
              "3                 0     0    0         0         0.011         0.511   \n",
              "4                 0     0    0         0         0.906         0.511   \n",
              "\n",
              "   winpercent  \n",
              "0   66.971725  \n",
              "1   67.602936  \n",
              "2   32.261086  \n",
              "3   46.116505  \n",
              "4   52.341465  "
            ],
            "text/html": [
              "\n",
              "  <div id=\"df-b510a8fb-1deb-42e1-a7d7-1bd98073da6a\" class=\"colab-df-container\">\n",
              "    <div>\n",
              "<style scoped>\n",
              "    .dataframe tbody tr th:only-of-type {\n",
              "        vertical-align: middle;\n",
              "    }\n",
              "\n",
              "    .dataframe tbody tr th {\n",
              "        vertical-align: top;\n",
              "    }\n",
              "\n",
              "    .dataframe thead th {\n",
              "        text-align: right;\n",
              "    }\n",
              "</style>\n",
              "<table border=\"1\" class=\"dataframe\">\n",
              "  <thead>\n",
              "    <tr style=\"text-align: right;\">\n",
              "      <th></th>\n",
              "      <th>competitorname</th>\n",
              "      <th>chocolate</th>\n",
              "      <th>fruity</th>\n",
              "      <th>caramel</th>\n",
              "      <th>peanutyalmondy</th>\n",
              "      <th>nougat</th>\n",
              "      <th>crispedricewafer</th>\n",
              "      <th>hard</th>\n",
              "      <th>bar</th>\n",
              "      <th>pluribus</th>\n",
              "      <th>sugarpercent</th>\n",
              "      <th>pricepercent</th>\n",
              "      <th>winpercent</th>\n",
              "    </tr>\n",
              "  </thead>\n",
              "  <tbody>\n",
              "    <tr>\n",
              "      <th>0</th>\n",
              "      <td>100 Grand</td>\n",
              "      <td>1</td>\n",
              "      <td>0</td>\n",
              "      <td>1</td>\n",
              "      <td>0</td>\n",
              "      <td>0</td>\n",
              "      <td>1</td>\n",
              "      <td>0</td>\n",
              "      <td>1</td>\n",
              "      <td>0</td>\n",
              "      <td>0.732</td>\n",
              "      <td>0.860</td>\n",
              "      <td>66.971725</td>\n",
              "    </tr>\n",
              "    <tr>\n",
              "      <th>1</th>\n",
              "      <td>3 Musketeers</td>\n",
              "      <td>1</td>\n",
              "      <td>0</td>\n",
              "      <td>0</td>\n",
              "      <td>0</td>\n",
              "      <td>1</td>\n",
              "      <td>0</td>\n",
              "      <td>0</td>\n",
              "      <td>1</td>\n",
              "      <td>0</td>\n",
              "      <td>0.604</td>\n",
              "      <td>0.511</td>\n",
              "      <td>67.602936</td>\n",
              "    </tr>\n",
              "    <tr>\n",
              "      <th>2</th>\n",
              "      <td>One dime</td>\n",
              "      <td>0</td>\n",
              "      <td>0</td>\n",
              "      <td>0</td>\n",
              "      <td>0</td>\n",
              "      <td>0</td>\n",
              "      <td>0</td>\n",
              "      <td>0</td>\n",
              "      <td>0</td>\n",
              "      <td>0</td>\n",
              "      <td>0.011</td>\n",
              "      <td>0.116</td>\n",
              "      <td>32.261086</td>\n",
              "    </tr>\n",
              "    <tr>\n",
              "      <th>3</th>\n",
              "      <td>One quarter</td>\n",
              "      <td>0</td>\n",
              "      <td>0</td>\n",
              "      <td>0</td>\n",
              "      <td>0</td>\n",
              "      <td>0</td>\n",
              "      <td>0</td>\n",
              "      <td>0</td>\n",
              "      <td>0</td>\n",
              "      <td>0</td>\n",
              "      <td>0.011</td>\n",
              "      <td>0.511</td>\n",
              "      <td>46.116505</td>\n",
              "    </tr>\n",
              "    <tr>\n",
              "      <th>4</th>\n",
              "      <td>Air Heads</td>\n",
              "      <td>0</td>\n",
              "      <td>1</td>\n",
              "      <td>0</td>\n",
              "      <td>0</td>\n",
              "      <td>0</td>\n",
              "      <td>0</td>\n",
              "      <td>0</td>\n",
              "      <td>0</td>\n",
              "      <td>0</td>\n",
              "      <td>0.906</td>\n",
              "      <td>0.511</td>\n",
              "      <td>52.341465</td>\n",
              "    </tr>\n",
              "  </tbody>\n",
              "</table>\n",
              "</div>\n",
              "    <div class=\"colab-df-buttons\">\n",
              "\n",
              "  <div class=\"colab-df-container\">\n",
              "    <button class=\"colab-df-convert\" onclick=\"convertToInteractive('df-b510a8fb-1deb-42e1-a7d7-1bd98073da6a')\"\n",
              "            title=\"Convert this dataframe to an interactive table.\"\n",
              "            style=\"display:none;\">\n",
              "\n",
              "  <svg xmlns=\"http://www.w3.org/2000/svg\" height=\"24px\" viewBox=\"0 -960 960 960\">\n",
              "    <path d=\"M120-120v-720h720v720H120Zm60-500h600v-160H180v160Zm220 220h160v-160H400v160Zm0 220h160v-160H400v160ZM180-400h160v-160H180v160Zm440 0h160v-160H620v160ZM180-180h160v-160H180v160Zm440 0h160v-160H620v160Z\"/>\n",
              "  </svg>\n",
              "    </button>\n",
              "\n",
              "  <style>\n",
              "    .colab-df-container {\n",
              "      display:flex;\n",
              "      gap: 12px;\n",
              "    }\n",
              "\n",
              "    .colab-df-convert {\n",
              "      background-color: #E8F0FE;\n",
              "      border: none;\n",
              "      border-radius: 50%;\n",
              "      cursor: pointer;\n",
              "      display: none;\n",
              "      fill: #1967D2;\n",
              "      height: 32px;\n",
              "      padding: 0 0 0 0;\n",
              "      width: 32px;\n",
              "    }\n",
              "\n",
              "    .colab-df-convert:hover {\n",
              "      background-color: #E2EBFA;\n",
              "      box-shadow: 0px 1px 2px rgba(60, 64, 67, 0.3), 0px 1px 3px 1px rgba(60, 64, 67, 0.15);\n",
              "      fill: #174EA6;\n",
              "    }\n",
              "\n",
              "    .colab-df-buttons div {\n",
              "      margin-bottom: 4px;\n",
              "    }\n",
              "\n",
              "    [theme=dark] .colab-df-convert {\n",
              "      background-color: #3B4455;\n",
              "      fill: #D2E3FC;\n",
              "    }\n",
              "\n",
              "    [theme=dark] .colab-df-convert:hover {\n",
              "      background-color: #434B5C;\n",
              "      box-shadow: 0px 1px 3px 1px rgba(0, 0, 0, 0.15);\n",
              "      filter: drop-shadow(0px 1px 2px rgba(0, 0, 0, 0.3));\n",
              "      fill: #FFFFFF;\n",
              "    }\n",
              "  </style>\n",
              "\n",
              "    <script>\n",
              "      const buttonEl =\n",
              "        document.querySelector('#df-b510a8fb-1deb-42e1-a7d7-1bd98073da6a button.colab-df-convert');\n",
              "      buttonEl.style.display =\n",
              "        google.colab.kernel.accessAllowed ? 'block' : 'none';\n",
              "\n",
              "      async function convertToInteractive(key) {\n",
              "        const element = document.querySelector('#df-b510a8fb-1deb-42e1-a7d7-1bd98073da6a');\n",
              "        const dataTable =\n",
              "          await google.colab.kernel.invokeFunction('convertToInteractive',\n",
              "                                                    [key], {});\n",
              "        if (!dataTable) return;\n",
              "\n",
              "        const docLinkHtml = 'Like what you see? Visit the ' +\n",
              "          '<a target=\"_blank\" href=https://colab.research.google.com/notebooks/data_table.ipynb>data table notebook</a>'\n",
              "          + ' to learn more about interactive tables.';\n",
              "        element.innerHTML = '';\n",
              "        dataTable['output_type'] = 'display_data';\n",
              "        await google.colab.output.renderOutput(dataTable, element);\n",
              "        const docLink = document.createElement('div');\n",
              "        docLink.innerHTML = docLinkHtml;\n",
              "        element.appendChild(docLink);\n",
              "      }\n",
              "    </script>\n",
              "  </div>\n",
              "\n",
              "\n",
              "<div id=\"df-a4a2008a-a2a2-41b3-b93f-a74aee4f0ebe\">\n",
              "  <button class=\"colab-df-quickchart\" onclick=\"quickchart('df-a4a2008a-a2a2-41b3-b93f-a74aee4f0ebe')\"\n",
              "            title=\"Suggest charts\"\n",
              "            style=\"display:none;\">\n",
              "\n",
              "<svg xmlns=\"http://www.w3.org/2000/svg\" height=\"24px\"viewBox=\"0 0 24 24\"\n",
              "     width=\"24px\">\n",
              "    <g>\n",
              "        <path d=\"M19 3H5c-1.1 0-2 .9-2 2v14c0 1.1.9 2 2 2h14c1.1 0 2-.9 2-2V5c0-1.1-.9-2-2-2zM9 17H7v-7h2v7zm4 0h-2V7h2v10zm4 0h-2v-4h2v4z\"/>\n",
              "    </g>\n",
              "</svg>\n",
              "  </button>\n",
              "\n",
              "<style>\n",
              "  .colab-df-quickchart {\n",
              "      --bg-color: #E8F0FE;\n",
              "      --fill-color: #1967D2;\n",
              "      --hover-bg-color: #E2EBFA;\n",
              "      --hover-fill-color: #174EA6;\n",
              "      --disabled-fill-color: #AAA;\n",
              "      --disabled-bg-color: #DDD;\n",
              "  }\n",
              "\n",
              "  [theme=dark] .colab-df-quickchart {\n",
              "      --bg-color: #3B4455;\n",
              "      --fill-color: #D2E3FC;\n",
              "      --hover-bg-color: #434B5C;\n",
              "      --hover-fill-color: #FFFFFF;\n",
              "      --disabled-bg-color: #3B4455;\n",
              "      --disabled-fill-color: #666;\n",
              "  }\n",
              "\n",
              "  .colab-df-quickchart {\n",
              "    background-color: var(--bg-color);\n",
              "    border: none;\n",
              "    border-radius: 50%;\n",
              "    cursor: pointer;\n",
              "    display: none;\n",
              "    fill: var(--fill-color);\n",
              "    height: 32px;\n",
              "    padding: 0;\n",
              "    width: 32px;\n",
              "  }\n",
              "\n",
              "  .colab-df-quickchart:hover {\n",
              "    background-color: var(--hover-bg-color);\n",
              "    box-shadow: 0 1px 2px rgba(60, 64, 67, 0.3), 0 1px 3px 1px rgba(60, 64, 67, 0.15);\n",
              "    fill: var(--button-hover-fill-color);\n",
              "  }\n",
              "\n",
              "  .colab-df-quickchart-complete:disabled,\n",
              "  .colab-df-quickchart-complete:disabled:hover {\n",
              "    background-color: var(--disabled-bg-color);\n",
              "    fill: var(--disabled-fill-color);\n",
              "    box-shadow: none;\n",
              "  }\n",
              "\n",
              "  .colab-df-spinner {\n",
              "    border: 2px solid var(--fill-color);\n",
              "    border-color: transparent;\n",
              "    border-bottom-color: var(--fill-color);\n",
              "    animation:\n",
              "      spin 1s steps(1) infinite;\n",
              "  }\n",
              "\n",
              "  @keyframes spin {\n",
              "    0% {\n",
              "      border-color: transparent;\n",
              "      border-bottom-color: var(--fill-color);\n",
              "      border-left-color: var(--fill-color);\n",
              "    }\n",
              "    20% {\n",
              "      border-color: transparent;\n",
              "      border-left-color: var(--fill-color);\n",
              "      border-top-color: var(--fill-color);\n",
              "    }\n",
              "    30% {\n",
              "      border-color: transparent;\n",
              "      border-left-color: var(--fill-color);\n",
              "      border-top-color: var(--fill-color);\n",
              "      border-right-color: var(--fill-color);\n",
              "    }\n",
              "    40% {\n",
              "      border-color: transparent;\n",
              "      border-right-color: var(--fill-color);\n",
              "      border-top-color: var(--fill-color);\n",
              "    }\n",
              "    60% {\n",
              "      border-color: transparent;\n",
              "      border-right-color: var(--fill-color);\n",
              "    }\n",
              "    80% {\n",
              "      border-color: transparent;\n",
              "      border-right-color: var(--fill-color);\n",
              "      border-bottom-color: var(--fill-color);\n",
              "    }\n",
              "    90% {\n",
              "      border-color: transparent;\n",
              "      border-bottom-color: var(--fill-color);\n",
              "    }\n",
              "  }\n",
              "</style>\n",
              "\n",
              "  <script>\n",
              "    async function quickchart(key) {\n",
              "      const quickchartButtonEl =\n",
              "        document.querySelector('#' + key + ' button');\n",
              "      quickchartButtonEl.disabled = true;  // To prevent multiple clicks.\n",
              "      quickchartButtonEl.classList.add('colab-df-spinner');\n",
              "      try {\n",
              "        const charts = await google.colab.kernel.invokeFunction(\n",
              "            'suggestCharts', [key], {});\n",
              "      } catch (error) {\n",
              "        console.error('Error during call to suggestCharts:', error);\n",
              "      }\n",
              "      quickchartButtonEl.classList.remove('colab-df-spinner');\n",
              "      quickchartButtonEl.classList.add('colab-df-quickchart-complete');\n",
              "    }\n",
              "    (() => {\n",
              "      let quickchartButtonEl =\n",
              "        document.querySelector('#df-a4a2008a-a2a2-41b3-b93f-a74aee4f0ebe button');\n",
              "      quickchartButtonEl.style.display =\n",
              "        google.colab.kernel.accessAllowed ? 'block' : 'none';\n",
              "    })();\n",
              "  </script>\n",
              "</div>\n",
              "\n",
              "    </div>\n",
              "  </div>\n"
            ],
            "application/vnd.google.colaboratory.intrinsic+json": {
              "type": "dataframe",
              "variable_name": "df",
              "summary": "{\n  \"name\": \"df\",\n  \"rows\": 85,\n  \"fields\": [\n    {\n      \"column\": \"competitorname\",\n      \"properties\": {\n        \"dtype\": \"string\",\n        \"num_unique_values\": 85,\n        \"samples\": [\n          \"Trolli Sour Bites\",\n          \"100 Grand\",\n          \"Starburst\"\n        ],\n        \"semantic_type\": \"\",\n        \"description\": \"\"\n      }\n    },\n    {\n      \"column\": \"chocolate\",\n      \"properties\": {\n        \"dtype\": \"number\",\n        \"std\": 0,\n        \"min\": 0,\n        \"max\": 1,\n        \"num_unique_values\": 2,\n        \"samples\": [\n          0,\n          1\n        ],\n        \"semantic_type\": \"\",\n        \"description\": \"\"\n      }\n    },\n    {\n      \"column\": \"fruity\",\n      \"properties\": {\n        \"dtype\": \"number\",\n        \"std\": 0,\n        \"min\": 0,\n        \"max\": 1,\n        \"num_unique_values\": 2,\n        \"samples\": [\n          1,\n          0\n        ],\n        \"semantic_type\": \"\",\n        \"description\": \"\"\n      }\n    },\n    {\n      \"column\": \"caramel\",\n      \"properties\": {\n        \"dtype\": \"number\",\n        \"std\": 0,\n        \"min\": 0,\n        \"max\": 1,\n        \"num_unique_values\": 2,\n        \"samples\": [\n          0,\n          1\n        ],\n        \"semantic_type\": \"\",\n        \"description\": \"\"\n      }\n    },\n    {\n      \"column\": \"peanutyalmondy\",\n      \"properties\": {\n        \"dtype\": \"number\",\n        \"std\": 0,\n        \"min\": 0,\n        \"max\": 1,\n        \"num_unique_values\": 2,\n        \"samples\": [\n          1,\n          0\n        ],\n        \"semantic_type\": \"\",\n        \"description\": \"\"\n      }\n    },\n    {\n      \"column\": \"nougat\",\n      \"properties\": {\n        \"dtype\": \"number\",\n        \"std\": 0,\n        \"min\": 0,\n        \"max\": 1,\n        \"num_unique_values\": 2,\n        \"samples\": [\n          1,\n          0\n        ],\n        \"semantic_type\": \"\",\n        \"description\": \"\"\n      }\n    },\n    {\n      \"column\": \"crispedricewafer\",\n      \"properties\": {\n        \"dtype\": \"number\",\n        \"std\": 0,\n        \"min\": 0,\n        \"max\": 1,\n        \"num_unique_values\": 2,\n        \"samples\": [\n          0,\n          1\n        ],\n        \"semantic_type\": \"\",\n        \"description\": \"\"\n      }\n    },\n    {\n      \"column\": \"hard\",\n      \"properties\": {\n        \"dtype\": \"number\",\n        \"std\": 0,\n        \"min\": 0,\n        \"max\": 1,\n        \"num_unique_values\": 2,\n        \"samples\": [\n          1,\n          0\n        ],\n        \"semantic_type\": \"\",\n        \"description\": \"\"\n      }\n    },\n    {\n      \"column\": \"bar\",\n      \"properties\": {\n        \"dtype\": \"number\",\n        \"std\": 0,\n        \"min\": 0,\n        \"max\": 1,\n        \"num_unique_values\": 2,\n        \"samples\": [\n          0,\n          1\n        ],\n        \"semantic_type\": \"\",\n        \"description\": \"\"\n      }\n    },\n    {\n      \"column\": \"pluribus\",\n      \"properties\": {\n        \"dtype\": \"number\",\n        \"std\": 0,\n        \"min\": 0,\n        \"max\": 1,\n        \"num_unique_values\": 2,\n        \"samples\": [\n          1,\n          0\n        ],\n        \"semantic_type\": \"\",\n        \"description\": \"\"\n      }\n    },\n    {\n      \"column\": \"sugarpercent\",\n      \"properties\": {\n        \"dtype\": \"number\",\n        \"std\": 0.28277787067790333,\n        \"min\": 0.011,\n        \"max\": 0.98799998,\n        \"num_unique_values\": 34,\n        \"samples\": [\n          0.30199999,\n          0.58099997\n        ],\n        \"semantic_type\": \"\",\n        \"description\": \"\"\n      }\n    },\n    {\n      \"column\": \"pricepercent\",\n      \"properties\": {\n        \"dtype\": \"number\",\n        \"std\": 0.28573961943317433,\n        \"min\": 0.011,\n        \"max\": 0.97600001,\n        \"num_unique_values\": 29,\n        \"samples\": [\n          0.26699999,\n          0.83700001\n        ],\n        \"semantic_type\": \"\",\n        \"description\": \"\"\n      }\n    },\n    {\n      \"column\": \"winpercent\",\n      \"properties\": {\n        \"dtype\": \"number\",\n        \"std\": 14.714357413407852,\n        \"min\": 22.445341,\n        \"max\": 84.18029,\n        \"num_unique_values\": 85,\n        \"samples\": [\n          47.173229,\n          66.971725\n        ],\n        \"semantic_type\": \"\",\n        \"description\": \"\"\n      }\n    }\n  ]\n}"
            }
          },
          "metadata": {},
          "execution_count": 8
        }
      ]
    },
    {
      "cell_type": "code",
      "source": [
        "# Choose variable = \"sugarpercent\"\n",
        "mean_value = df['sugarpercent'].mean()\n",
        "std_dev = df['sugarpercent'].std()\n",
        "median_value = df['sugarpercent'].median()\n",
        "min_value = df['sugarpercent'].min()\n",
        "max_value = df['sugarpercent'].max()\n",
        "print(\"Choose variable sugerpercent\")\n",
        "print(f\"Mean: {mean_value}\")\n",
        "print(f\"Standard Deviation: {std_dev}\")\n",
        "print(f\"Median: {median_value}\")\n",
        "print(f\"Minimum: {min_value}\")\n",
        "print(f\"Maximum: {max_value}\")"
      ],
      "metadata": {
        "colab": {
          "base_uri": "https://localhost:8080/",
          "height": 0
        },
        "id": "E_iwRS2RZMc8",
        "outputId": "727aed56-f148-4887-a78e-b565ce0fbc67"
      },
      "execution_count": 11,
      "outputs": [
        {
          "output_type": "stream",
          "name": "stdout",
          "text": [
            "Choose variable sugerpercent\n",
            "Mean: 0.4786470514588235\n",
            "Standard Deviation: 0.28277787067790333\n",
            "Median: 0.465\n",
            "Minimum: 0.011\n",
            "Maximum: 0.98799998\n"
          ]
        }
      ]
    },
    {
      "cell_type": "code",
      "source": [
        "# Plot the histogram\n",
        "plt.hist(df['sugarpercent'], bins=10, edgecolor='black', alpha=0.7)\n",
        "plt.title('Distribution of sugarpercent')\n",
        "plt.xlabel('sugarpercent')\n",
        "plt.ylabel('Frequency')\n",
        "plt.show()"
      ],
      "metadata": {
        "colab": {
          "base_uri": "https://localhost:8080/",
          "height": 472
        },
        "id": "4nn0kjhfc0Ax",
        "outputId": "fc76ccfe-235f-496e-e106-5c59cebc2e82"
      },
      "execution_count": 15,
      "outputs": [
        {
          "output_type": "display_data",
          "data": {
            "text/plain": [
              "<Figure size 640x480 with 1 Axes>"
            ],
            "image/png": "[encoded data removed]"
          },
          "metadata": {}
        }
      ]
    },
    {
      "cell_type": "code",
      "source": [
        "#explain\n",
        "print('The average sugar content percentage across all candies is about 47.8%. This suggests that, on average, the candies have nearly half of their content as sugar.')"
      ],
      "metadata": {
        "colab": {
          "base_uri": "https://localhost:8080/",
          "height": 0
        },
        "id": "Qn4H6bOfdk5t",
        "outputId": "201b8f8a-e815-476e-f66b-ab98b1db30c7"
      },
      "execution_count": 16,
      "outputs": [
        {
          "output_type": "stream",
          "name": "stdout",
          "text": [
            "The average sugar content percentage across all candies is about 47.8%. This suggests that, on average, the candies have nearly half of their content as sugar.\n"
          ]
        }
      ]
    },
    {
      "cell_type": "code",
      "source": [
        "print('The standard deviation shows that the sugar percentages vary by about 28.2% from the mean, indicating a moderate level of variability.')"
      ],
      "metadata": {
        "colab": {
          "base_uri": "https://localhost:8080/",
          "height": 0
        },
        "id": "KTe_QnV4doTe",
        "outputId": "37777068-e587-48ab-c27a-b334bebbb9f8"
      },
      "execution_count": 17,
      "outputs": [
        {
          "output_type": "stream",
          "name": "stdout",
          "text": [
            "The standard deviation shows that the sugar percentages vary by about 28.2% from the mean, indicating a moderate level of variability.\n"
          ]
        }
      ]
    },
    {
      "cell_type": "code",
      "source": [
        "print('The middle value (when all candies are ordered by sugar content) is 46.5%, which is close to the mean, indicating that the data is fairly symmetric.')"
      ],
      "metadata": {
        "colab": {
          "base_uri": "https://localhost:8080/",
          "height": 0
        },
        "id": "aEfQXZCAdsXq",
        "outputId": "a1559b89-5308-4733-c241-b793311352ac"
      },
      "execution_count": 18,
      "outputs": [
        {
          "output_type": "stream",
          "name": "stdout",
          "text": [
            "The middle value (when all candies are ordered by sugar content) is 46.5%, which is close to the mean, indicating that the data is fairly symmetric.\n"
          ]
        }
      ]
    },
    {
      "cell_type": "code",
      "source": [
        "print('The candy with the lowest sugar content has just 1.1% sugar, representing a possible outlier or a very low-sugar product. The candy with the highest sugar content has 98.8% sugar, indicating that some candies are extremely sugar-dense.')"
      ],
      "metadata": {
        "colab": {
          "base_uri": "https://localhost:8080/",
          "height": 0
        },
        "id": "yRSD972vdvMX",
        "outputId": "aa78f526-211b-4df0-c5e6-711b93e91ff2"
      },
      "execution_count": 19,
      "outputs": [
        {
          "output_type": "stream",
          "name": "stdout",
          "text": [
            "The candy with the lowest sugar content has just 1.1% sugar, representing a possible outlier or a very low-sugar product. The candy with the highest sugar content has 98.8% sugar, indicating that some candies are extremely sugar-dense.\n"
          ]
        }
      ]
    },
    {
      "cell_type": "code",
      "source": [
        "print('The histogram visualizes the distribution of sugarpercent across all candies.')\n",
        "print('There is no strong skew; the distribution is roughly uniform.')\n",
        "print(\" Some bins (e.g., around 0.4-0.5 and 0.6-0.7) have a slightly higher frequency, suggesting these sugar percentages are more common among candies.\")\n",
        "print('The low frequency around 0.2 and 0.8 indicates that fewer candies have sugar content in those ranges.')"
      ],
      "metadata": {
        "colab": {
          "base_uri": "https://localhost:8080/",
          "height": 0
        },
        "id": "53GtwXczd4Ts",
        "outputId": "33d58ba0-0ec3-42a7-82e9-b32849b753e1"
      },
      "execution_count": 20,
      "outputs": [
        {
          "output_type": "stream",
          "name": "stdout",
          "text": [
            "The histogram visualizes the distribution of sugarpercent across all candies.\n",
            "There is no strong skew; the distribution is roughly uniform.\n",
            " Some bins (e.g., around 0.4-0.5 and 0.6-0.7) have a slightly higher frequency, suggesting these sugar percentages are more common among candies.\n",
            "The low frequency around 0.2 and 0.8 indicates that fewer candies have sugar content in those ranges.\n"
          ]
        }
      ]
    },
    {
      "cell_type": "code",
      "source": [
        "#question 2\n",
        "# Group by 'chocolate' and calculate mean and standard deviation for 'sugarpercent'\n",
        "grouped_stats = df.groupby('chocolate')['sugarpercent'].agg(['mean', 'std']).reset_index()\n",
        "print(grouped_stats)\n",
        "\n",
        "# Boxplot for visualization\n",
        "plt.figure(figsize=(8, 6))\n",
        "sns.boxplot(x='chocolate', y='sugarpercent', data=df)\n",
        "plt.title('Boxplot of Sugar Percent by Chocolate Presence')\n",
        "plt.xlabel('Chocolate (1 = Chocolate, 0 = Non-Chocolate)')\n",
        "plt.ylabel('Sugar Percent')\n",
        "plt.show()"
      ],
      "metadata": {
        "colab": {
          "base_uri": "https://localhost:8080/",
          "height": 616
        },
        "id": "Nfobc1vneRb6",
        "outputId": "ab639979-b3de-43eb-a006-467b736e644c"
      },
      "execution_count": 21,
      "outputs": [
        {
          "output_type": "stream",
          "name": "stdout",
          "text": [
            "   chocolate      mean       std\n",
            "0          0  0.452937  0.310936\n",
            "1          1  0.512000  0.241524\n"
          ]
        },
        {
          "output_type": "display_data",
          "data": {
            "text/plain": [
              "<Figure size 800x600 with 1 Axes>"
            ],
            "image/png": "[encoded data removed]"
          },
          "metadata": {}
        }
      ]
    },
    {
      "cell_type": "code",
      "source": [
        "#Interpretation of the Results:\n",
        "print(\"we find Chocolate candies tend to have slightly higher average sugar content (mean = 51.2%) compared to non-chocolate candies (mean = 45.3%).\")\n",
        "print(\"However, non-chocolate candies have a higher variability (std = 31.1%), indicating more diversity in sugar levels\")\n",
        "\n",
        "print(\"Through box plot, we find the non-chocolate group (chocolate = 0) has a wider spread in sugar content. This is evident from the taller box and larger whiskers, showing more variation.\")\n",
        "print(\"The chocolate group (chocolate = 1) has a tighter range, with the middle 50% of data (IQR) concentrated around the median (close to 50% sugar content).\")\n",
        "print(\"Both groups have similar lower bounds (near 0%), but the upper bounds differ slightly, with non-chocolate candies reaching closer to 100% sugar content.\")\n",
        "\n",
        "print(\"So, higher Sugar in Chocolate Candies, greater variability in Non-Chocolate Candies\")"
      ],
      "metadata": {
        "colab": {
          "base_uri": "https://localhost:8080/",
          "height": 0
        },
        "id": "xNt1G5xweovT",
        "outputId": "0a34918a-1034-40aa-caa1-824532c83910"
      },
      "execution_count": 23,
      "outputs": [
        {
          "output_type": "stream",
          "name": "stdout",
          "text": [
            "we find Chocolate candies tend to have slightly higher average sugar content (mean = 51.2%) compared to non-chocolate candies (mean = 45.3%).\n",
            "However, non-chocolate candies have a higher variability (std = 31.1%), indicating more diversity in sugar levels\n",
            "Through box plot, we find the non-chocolate group (chocolate = 0) has a wider spread in sugar content. This is evident from the taller box and larger whiskers, showing more variation.\n",
            "The chocolate group (chocolate = 1) has a tighter range, with the middle 50% of data (IQR) concentrated around the median (close to 50% sugar content).\n",
            "Both groups have similar lower bounds (near 0%), but the upper bounds differ slightly, with non-chocolate candies reaching closer to 100% sugar content.\n",
            "So, higher Sugar in Chocolate Candies, greater variability in Non-Chocolate Candies\n"
          ]
        }
      ]
    },
    {
      "cell_type": "code",
      "source": [
        "#question3\n",
        "# use chocolate and hard as the two categorical variable\n",
        "#Cross-Tabulation\n",
        "crosstab = pd.crosstab(df['chocolate'], df['hard'])\n",
        "print(crosstab)\n",
        "\n"
      ],
      "metadata": {
        "colab": {
          "base_uri": "https://localhost:8080/",
          "height": 0
        },
        "id": "2LCXPIgNfUMw",
        "outputId": "f89cf47f-fb3e-49ee-b386-1bfaa21b052f"
      },
      "execution_count": 24,
      "outputs": [
        {
          "output_type": "stream",
          "name": "stdout",
          "text": [
            "hard        0   1\n",
            "chocolate        \n",
            "0          34  14\n",
            "1          36   1\n"
          ]
        }
      ]
    },
    {
      "cell_type": "code",
      "source": [
        "print(\"this value shows for Non-Chocolate Candies, 34 candies are not hard (hard = 0) and 14 candies are hard (hard = 1).\")\n",
        "print(\" for Chocolate Candies, 36 candies are not hard (hard = 0), Only 1 candy is hard (hard = 1).\")"
      ],
      "metadata": {
        "colab": {
          "base_uri": "https://localhost:8080/",
          "height": 0
        },
        "id": "_gTsXTLKf1y2",
        "outputId": "9d6a9a7a-9def-4b8f-a5bc-162b4705a1a6"
      },
      "execution_count": 26,
      "outputs": [
        {
          "output_type": "stream",
          "name": "stdout",
          "text": [
            "this value shows for Non-Chocolate Candies, 34 candies are not hard (hard = 0) and 14 candies are hard (hard = 1).\n",
            " for Chocolate Candies, 36 candies are not hard (hard = 0), Only 1 candy is hard (hard = 1).\n"
          ]
        }
      ]
    },
    {
      "cell_type": "code",
      "source": [
        "# Plotting the stacked bar chart\n",
        "crosstab.plot(kind='bar', stacked=True, figsize=(8, 6), color=['skyblue', 'salmon'])\n",
        "plt.title('Stacked Bar Chart of Chocolate vs Hard Candy')\n",
        "plt.xlabel('Chocolate (1 = Yes, 0 = No)')\n",
        "plt.ylabel('Count')\n",
        "plt.legend(title='Hard (1 = Yes, 0 = No)')\n",
        "plt.xticks(rotation=0)\n",
        "plt.show()"
      ],
      "metadata": {
        "colab": {
          "base_uri": "https://localhost:8080/",
          "height": 564
        },
        "id": "yDB1kNaXfrk0",
        "outputId": "e5e72e02-1bbf-44cc-8d4f-fdd75ddcfe61"
      },
      "execution_count": 25,
      "outputs": [
        {
          "output_type": "display_data",
          "data": {
            "text/plain": [
              "<Figure size 800x600 with 1 Axes>"
            ],
            "image/png": "[encoded data removed]"
          },
          "metadata": {}
        }
      ]
    },
    {
      "cell_type": "code",
      "source": [
        "print('this graph shows for Non-Chocolate Candies, a larger portion of non-chocolate candies are not hard, but there is still a significant proportion (about 29%) of hard candies.')\n",
        "\n",
        "print('for Chocolate Candies, almost all chocolate candies are not hard, with only a negligible number (1 candy) being hard.')\n",
        "\n",
        "print('The data suggests a strong relationship between the chocolate and hard variables. Chocolate candies are predominantly not hard, while non-chocolate candies show a more diverse distribution in terms of texture.')"
      ],
      "metadata": {
        "colab": {
          "base_uri": "https://localhost:8080/",
          "height": 0
        },
        "id": "tlDBmqoggJds",
        "outputId": "b359edd2-65c8-4514-8c6e-343b9ab98716"
      },
      "execution_count": 28,
      "outputs": [
        {
          "output_type": "stream",
          "name": "stdout",
          "text": [
            "this graph shows for Non-Chocolate Candies, a larger portion of non-chocolate candies are not hard, but there is still a significant proportion (about 29%) of hard candies.\n",
            "for Chocolate Candies, almost all chocolate candies are not hard, with only a negligible number (1 candy) being hard.\n",
            "The data suggests a strong relationship between the chocolate and hard variables. Chocolate candies are predominantly not hard, while non-chocolate candies show a more diverse distribution in terms of texture.\n"
          ]
        }
      ]
    }
  ]
}