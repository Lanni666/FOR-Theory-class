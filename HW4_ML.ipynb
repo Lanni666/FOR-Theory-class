{
  "cells": [
    {
      "cell_type": "code",
      "execution_count": 8,
      "id": "c7dd5b4d",
      "metadata": {
        "id": "c7dd5b4d"
      },
      "outputs": [],
      "source": [
        "import pandas as pd\n",
        "from sklearn.feature_extraction.text import CountVectorizer, TfidfVectorizer\n",
        "from sklearn.model_selection import train_test_split, GridSearchCV\n",
        "from sklearn.linear_model import LogisticRegression\n",
        "from sklearn.metrics import f1_score, classification_report"
      ]
    },
    {
      "cell_type": "code",
      "execution_count": null,
      "id": "4bc9c35d",
      "metadata": {
        "id": "4bc9c35d",
        "outputId": "69810ba2-8ba1-406a-a20a-b368617b7da6"
      },
      "outputs": [
        {
          "name": "stdout",
          "output_type": "stream",
          "text": [
            "                                            headline          label\n",
            "0     MyBook Disk Drive Handles Lots of Easy Backups  not clickbait\n",
            "1                     CIT Posts Eighth Loss in a Row  not clickbait\n",
            "2  Candy Carson Singing The \"National Anthem\" Is ...      clickbait\n",
            "3  Why You Need To Stop What You're Doing And Dat...      clickbait\n",
            "4  27 Times Adele Proved She's Actually The Reale...      clickbait\n",
            "5  29 Times #BlackGirlMagic Was More Than Just A ...      clickbait\n",
            "6  Scientology ties at New Village Leadership Aca...  not clickbait\n",
            "7             Judge Allows Asbestos Case to Continue  not clickbait\n",
            "8            Cities Deal With a Surge in Shantytowns  not clickbait\n",
            "9              15 Reasons December Is The Best Month      clickbait\n"
          ]
        }
      ],
      "source": [
        "file_path = r'/Users/lanwang/Downloads/text_training_data.csv'\n",
        "data = pd.read_csv(file_path)\n",
        "print(data.head(10))"
      ]
    },
    {
      "cell_type": "markdown",
      "id": "d99cc19c",
      "metadata": {
        "id": "d99cc19c"
      },
      "source": [
        "### Part A Build a classification model using text data"
      ]
    },
    {
      "cell_type": "code",
      "execution_count": null,
      "id": "7758934a",
      "metadata": {
        "id": "7758934a",
        "outputId": "0aa7c71a-939a-4a81-936a-eeb9be63b553"
      },
      "outputs": [
        {
          "name": "stdout",
          "output_type": "stream",
          "text": [
            "#1\n"
          ]
        }
      ],
      "source": [
        "print(\"#1\")\n",
        "headlines = data['headline']\n",
        "labels = data['label'].map({'not clickbait': 0, 'clickbait': 1})"
      ]
    },
    {
      "cell_type": "code",
      "execution_count": null,
      "id": "cee02c60",
      "metadata": {
        "id": "cee02c60",
        "outputId": "d1bd3657-9d9a-4173-9530-22dc72199bbb"
      },
      "outputs": [
        {
          "name": "stdout",
          "output_type": "stream",
          "text": [
            "#2\n"
          ]
        }
      ],
      "source": [
        "print(\"#2\")\n",
        "# Vectorize the headlines using Bag of Words\n",
        "vectorizer_bow = CountVectorizer()\n",
        "X_bow = vectorizer_bow.fit_transform(headlines)\n",
        "X_train_bow, X_test_bow, y_train, y_test = train_test_split(X_bow, labels, test_size=0.2, random_state=42)"
      ]
    },
    {
      "cell_type": "code",
      "execution_count": null,
      "id": "9716d03b",
      "metadata": {
        "id": "9716d03b",
        "outputId": "cc6006b5-51bd-49f3-95da-fd43adcc3dd1"
      },
      "outputs": [
        {
          "name": "stdout",
          "output_type": "stream",
          "text": [
            "#3\n",
            "F1 Score (Bag of Words): 0.9661835748792271\n",
            "Classification Report (Bag of Words):\n",
            "              precision    recall  f1-score   support\n",
            "\n",
            "           0       0.97      0.97      0.97      2610\n",
            "           1       0.97      0.96      0.97      2386\n",
            "\n",
            "    accuracy                           0.97      4996\n",
            "   macro avg       0.97      0.97      0.97      4996\n",
            "weighted avg       0.97      0.97      0.97      4996\n",
            "\n"
          ]
        }
      ],
      "source": [
        "print(\"#3\")\n",
        "# Define the logistic regression model and parameter grid\n",
        "log_reg = LogisticRegression(max_iter=1000)\n",
        "param_grid = {'C': [0.01, 0.1, 1, 10, 100]}\n",
        "\n",
        "# Perform grid search\n",
        "grid_search_bow = GridSearchCV(log_reg, param_grid, scoring='f1', cv=5)\n",
        "grid_search_bow.fit(X_train_bow, y_train)\n",
        "\n",
        "# Get the best model\n",
        "best_log_reg_bow = grid_search_bow.best_estimator_\n",
        "\n",
        "# Evaluate the model\n",
        "y_pred_bow = best_log_reg_bow.predict(X_test_bow)\n",
        "print(\"F1 Score (Bag of Words):\", f1_score(y_test, y_pred_bow))\n",
        "print(\"Classification Report (Bag of Words):\")\n",
        "print(classification_report(y_test, y_pred_bow))"
      ]
    },
    {
      "cell_type": "markdown",
      "id": "65cbb198",
      "metadata": {
        "id": "65cbb198"
      },
      "source": [
        "### The precision and recall for both classes (0: not clickbait, 1: clickbait) are high and balanced, with an overall weighted F1-score of 0.966. So, the Bag of Words provides a strong performance, indicating that even simple word-level features are effective for this task."
      ]
    },
    {
      "cell_type": "code",
      "execution_count": null,
      "id": "5fa66ca7",
      "metadata": {
        "id": "5fa66ca7",
        "outputId": "d7e62f66-4004-4fa3-9b48-13e95461c851"
      },
      "outputs": [
        {
          "name": "stdout",
          "output_type": "stream",
          "text": [
            "#4\n",
            "F1 Score (TF-IDF): 0.9676198486122792\n",
            "Classification Report (TF-IDF):\n",
            "              precision    recall  f1-score   support\n",
            "\n",
            "           0       0.97      0.97      0.97      2610\n",
            "           1       0.97      0.96      0.97      2386\n",
            "\n",
            "    accuracy                           0.97      4996\n",
            "   macro avg       0.97      0.97      0.97      4996\n",
            "weighted avg       0.97      0.97      0.97      4996\n",
            "\n"
          ]
        }
      ],
      "source": [
        "print(\"#4\")\n",
        "vectorizer_tfidf = TfidfVectorizer()\n",
        "X_tfidf = vectorizer_tfidf.fit_transform(headlines)\n",
        "X_train_tfidf, X_test_tfidf, y_train, y_test = train_test_split(X_tfidf, labels, test_size=0.2, random_state=42)\n",
        "# Perform grid search\n",
        "grid_search_tfidf = GridSearchCV(log_reg, param_grid, scoring='f1', cv=5)\n",
        "grid_search_tfidf.fit(X_train_tfidf, y_train)\n",
        "\n",
        "# Get the best model\n",
        "best_log_reg_tfidf = grid_search_tfidf.best_estimator_\n",
        "\n",
        "# Evaluate the model\n",
        "y_pred_tfidf = best_log_reg_tfidf.predict(X_test_tfidf)\n",
        "print(\"F1 Score (TF-IDF):\", f1_score(y_test, y_pred_tfidf))\n",
        "print(\"Classification Report (TF-IDF):\")\n",
        "print(classification_report(y_test, y_pred_tfidf))"
      ]
    },
    {
      "cell_type": "code",
      "execution_count": null,
      "id": "0b3137c2",
      "metadata": {
        "id": "0b3137c2",
        "outputId": "29617980-6bd1-4ea8-a4d2-17a4be81d0c0"
      },
      "outputs": [
        {
          "name": "stdout",
          "output_type": "stream",
          "text": [
            "F1 Score (N-Grams): 0.9674280879864636\n",
            "Classification Report (N-Grams):\n",
            "              precision    recall  f1-score   support\n",
            "\n",
            "           0       0.96      0.98      0.97      2610\n",
            "           1       0.98      0.96      0.97      2386\n",
            "\n",
            "    accuracy                           0.97      4996\n",
            "   macro avg       0.97      0.97      0.97      4996\n",
            "weighted avg       0.97      0.97      0.97      4996\n",
            "\n"
          ]
        }
      ],
      "source": [
        "# Vectorize the headlines using Bag of Words with N-Grams\n",
        "vectorizer_ngrams = CountVectorizer(ngram_range=(1, 2))\n",
        "X_ngrams = vectorizer_ngrams.fit_transform(headlines)\n",
        "X_train_ngrams, X_test_ngrams, y_train, y_test = train_test_split(X_ngrams, labels, test_size=0.2, random_state=42)\n",
        "grid_search_ngrams = GridSearchCV(log_reg, param_grid, scoring='f1', cv=5)\n",
        "grid_search_ngrams.fit(X_train_ngrams, y_train)\n",
        "\n",
        "# Get the best model\n",
        "best_log_reg_ngrams = grid_search_ngrams.best_estimator_\n",
        "\n",
        "# Evaluate the model\n",
        "y_pred_ngrams = best_log_reg_ngrams.predict(X_test_ngrams)\n",
        "print(\"F1 Score (N-Grams):\", f1_score(y_test, y_pred_ngrams))\n",
        "print(\"Classification Report (N-Grams):\")\n",
        "print(classification_report(y_test, y_pred_ngrams))"
      ]
    },
    {
      "cell_type": "code",
      "execution_count": null,
      "id": "810e9bbd",
      "metadata": {
        "id": "810e9bbd",
        "outputId": "9797611e-0486-4343-c496-7c1aad2c50a1"
      },
      "outputs": [
        {
          "name": "stdout",
          "output_type": "stream",
          "text": [
            "#5\n",
            "F1 Scores:\n",
            "Bag of Words: 0.9661835748792271\n",
            "TF-IDF: 0.9676198486122792\n",
            "N-Grams: 0.9674280879864636\n"
          ]
        }
      ],
      "source": [
        "print(\"#5\")\n",
        "print(\"F1 Scores:\")\n",
        "print(f\"Bag of Words: {f1_score(y_test, y_pred_bow)}\")\n",
        "print(f\"TF-IDF: {f1_score(y_test, y_pred_tfidf)}\")\n",
        "print(f\"N-Grams: {f1_score(y_test, y_pred_ngrams)}\")"
      ]
    },
    {
      "cell_type": "code",
      "execution_count": null,
      "id": "a84da98f",
      "metadata": {
        "id": "a84da98f",
        "outputId": "3836b3a1-d1fc-4fcf-d93a-b4300ea3c7b0"
      },
      "outputs": [
        {
          "name": "stdout",
          "output_type": "stream",
          "text": [
            "           Feature  Coefficient\n",
            "20213          you     7.364586\n",
            "156           2015     7.053958\n",
            "2906      buzzfeed     6.980712\n",
            "19419    victories     6.612317\n",
            "4066   confessions     6.555387\n",
            "18250        these     6.445825\n",
            "20219         your     6.411746\n",
            "6791      feminist     6.209302\n",
            "5026      democrat     5.976065\n",
            "170             21     5.916128\n",
            "      Feature  Coefficient\n",
            "20213     you    28.727865\n",
            "18275    this    20.163887\n",
            "20219    your    19.853685\n",
            "18250   these    15.584464\n",
            "13367  people    13.762453\n",
            "156      2015    13.613946\n",
            "170        21    13.488844\n",
            "8511     here    13.467891\n",
            "19717      we    13.389424\n",
            "79         17    12.871407\n",
            "            Feature  Coefficient\n",
            "134459          you     6.816581\n",
            "135028         your     6.455842\n",
            "29143   confessions     5.895113\n",
            "117996         this     5.889037\n",
            "117319        these     5.473512\n",
            "22013       but not     5.442125\n",
            "2406             21     5.176035\n",
            "1212             17     5.034050\n",
            "2306           2015     5.008276\n",
            "128768           we     4.834924\n"
          ]
        }
      ],
      "source": [
        "# Bag of Words Coefficients\n",
        "coeff_bow = pd.DataFrame({'Feature': vectorizer_bow.get_feature_names_out(),\n",
        "                          'Coefficient': best_log_reg_bow.coef_[0]})\n",
        "print(coeff_bow.sort_values(by='Coefficient', ascending=False).head(10))\n",
        "\n",
        "# TF-IDF Coefficients\n",
        "coeff_tfidf = pd.DataFrame({'Feature': vectorizer_tfidf.get_feature_names_out(),\n",
        "                            'Coefficient': best_log_reg_tfidf.coef_[0]})\n",
        "print(coeff_tfidf.sort_values(by='Coefficient', ascending=False).head(10))\n",
        "\n",
        "# N-Grams Coefficients\n",
        "coeff_ngrams = pd.DataFrame({'Feature': vectorizer_ngrams.get_feature_names_out(),\n",
        "                             'Coefficient': best_log_reg_ngrams.coef_[0]})\n",
        "print(coeff_ngrams.sort_values(by='Coefficient', ascending=False).head(10))"
      ]
    },
    {
      "cell_type": "markdown",
      "id": "7fa3f476",
      "metadata": {
        "id": "7fa3f476"
      },
      "source": [
        "###  TF-IDF is the best because Bag of Words: 0.966; TF-IDF: 0.968; N-Grams: 0.967.\n",
        "### Words like \"you\", \"this\", \"your\", and \"these\" consistently appear as strong predictors across all vectorization methods. These words likely indicate typical clickbait phrasing.\n",
        "### TF-IDF emphasizes words with higher discriminatory power, such as \"people\" and \"we\", by assigning much larger coefficients than the other methods.\n",
        "### N-Grams captures word combinations like \"but not\" and \"confessions\", which might provide additional context for identifying clickbait."
      ]
    },
    {
      "cell_type": "markdown",
      "id": "4740e1ac",
      "metadata": {
        "id": "4740e1ac"
      },
      "source": [
        "# PART B Build a Predictive Neural Network Using Keras"
      ]
    },
    {
      "cell_type": "markdown",
      "id": "67766032",
      "metadata": {
        "id": "67766032"
      },
      "source": [
        "#### 1"
      ]
    },
    {
      "cell_type": "code",
      "execution_count": 9,
      "id": "6cc2cb7a",
      "metadata": {
        "colab": {
          "base_uri": "https://localhost:8080/"
        },
        "id": "6cc2cb7a",
        "outputId": "596bc57e-e274-4173-c5e8-f378e82bcaee"
      },
      "outputs": [
        {
          "output_type": "stream",
          "name": "stdout",
          "text": [
            "   rownames  Sepal.Length  Sepal.Width  Petal.Length  Petal.Width Species\n",
            "0         1           5.1          3.5           1.4          0.2  setosa\n",
            "1         2           4.9          3.0           1.4          0.2  setosa\n",
            "2         3           4.7          3.2           1.3          0.2  setosa\n",
            "3         4           4.6          3.1           1.5          0.2  setosa\n",
            "4         5           5.0          3.6           1.4          0.2  setosa\n"
          ]
        }
      ],
      "source": [
        "url = \"http://vincentarelbundock.github.io/Rdatasets/csv/datasets/iris.csv\"\n",
        "iris = pd.read_csv(url)\n",
        "\n",
        "# Inspect the first few rows\n",
        "print(iris.head())"
      ]
    },
    {
      "cell_type": "markdown",
      "id": "754c6243",
      "metadata": {
        "id": "754c6243"
      },
      "source": [
        "#### 2"
      ]
    },
    {
      "cell_type": "code",
      "execution_count": 1,
      "id": "0eb23e14",
      "metadata": {
        "id": "0eb23e14"
      },
      "outputs": [],
      "source": [
        "from sklearn.model_selection import train_test_split\n",
        "from sklearn.preprocessing import LabelEncoder, StandardScaler"
      ]
    },
    {
      "cell_type": "code",
      "execution_count": 2,
      "id": "f544aa4e",
      "metadata": {
        "id": "f544aa4e"
      },
      "outputs": [],
      "source": [
        "import tensorflow as tf\n"
      ]
    },
    {
      "cell_type": "code",
      "execution_count": 3,
      "id": "7276c8c9",
      "metadata": {
        "id": "7276c8c9"
      },
      "outputs": [],
      "source": [
        "from tensorflow.keras.models import Sequential\n",
        "from tensorflow.keras.layers import Dense\n",
        "from tensorflow.keras.utils import to_categorical"
      ]
    },
    {
      "cell_type": "code",
      "execution_count": 17,
      "id": "efb9a748",
      "metadata": {
        "colab": {
          "base_uri": "https://localhost:8080/",
          "height": 363
        },
        "id": "efb9a748",
        "outputId": "9cdf4082-a29a-468a-8850-7b7c3bb99476"
      },
      "outputs": [
        {
          "output_type": "display_data",
          "data": {
            "text/plain": [
              "   rownames  Sepal.Length  Sepal.Width  Petal.Length  Petal.Width Species\n",
              "0         1           5.1          3.5           1.4          0.2  setosa\n",
              "1         2           4.9          3.0           1.4          0.2  setosa\n",
              "2         3           4.7          3.2           1.3          0.2  setosa\n",
              "3         4           4.6          3.1           1.5          0.2  setosa\n",
              "4         5           5.0          3.6           1.4          0.2  setosa\n",
              "5         6           5.4          3.9           1.7          0.4  setosa\n",
              "6         7           4.6          3.4           1.4          0.3  setosa\n",
              "7         8           5.0          3.4           1.5          0.2  setosa\n",
              "8         9           4.4          2.9           1.4          0.2  setosa\n",
              "9        10           4.9          3.1           1.5          0.1  setosa"
            ],
            "text/html": [
              "\n",
              "  <div id=\"df-551832ab-7182-46ed-aee7-9b463a2df395\" class=\"colab-df-container\">\n",
              "    <div>\n",
              "<style scoped>\n",
              "    .dataframe tbody tr th:only-of-type {\n",
              "        vertical-align: middle;\n",
              "    }\n",
              "\n",
              "    .dataframe tbody tr th {\n",
              "        vertical-align: top;\n",
              "    }\n",
              "\n",
              "    .dataframe thead th {\n",
              "        text-align: right;\n",
              "    }\n",
              "</style>\n",
              "<table border=\"1\" class=\"dataframe\">\n",
              "  <thead>\n",
              "    <tr style=\"text-align: right;\">\n",
              "      <th></th>\n",
              "      <th>rownames</th>\n",
              "      <th>Sepal.Length</th>\n",
              "      <th>Sepal.Width</th>\n",
              "      <th>Petal.Length</th>\n",
              "      <th>Petal.Width</th>\n",
              "      <th>Species</th>\n",
              "    </tr>\n",
              "  </thead>\n",
              "  <tbody>\n",
              "    <tr>\n",
              "      <th>0</th>\n",
              "      <td>1</td>\n",
              "      <td>5.1</td>\n",
              "      <td>3.5</td>\n",
              "      <td>1.4</td>\n",
              "      <td>0.2</td>\n",
              "      <td>setosa</td>\n",
              "    </tr>\n",
              "    <tr>\n",
              "      <th>1</th>\n",
              "      <td>2</td>\n",
              "      <td>4.9</td>\n",
              "      <td>3.0</td>\n",
              "      <td>1.4</td>\n",
              "      <td>0.2</td>\n",
              "      <td>setosa</td>\n",
              "    </tr>\n",
              "    <tr>\n",
              "      <th>2</th>\n",
              "      <td>3</td>\n",
              "      <td>4.7</td>\n",
              "      <td>3.2</td>\n",
              "      <td>1.3</td>\n",
              "      <td>0.2</td>\n",
              "      <td>setosa</td>\n",
              "    </tr>\n",
              "    <tr>\n",
              "      <th>3</th>\n",
              "      <td>4</td>\n",
              "      <td>4.6</td>\n",
              "      <td>3.1</td>\n",
              "      <td>1.5</td>\n",
              "      <td>0.2</td>\n",
              "      <td>setosa</td>\n",
              "    </tr>\n",
              "    <tr>\n",
              "      <th>4</th>\n",
              "      <td>5</td>\n",
              "      <td>5.0</td>\n",
              "      <td>3.6</td>\n",
              "      <td>1.4</td>\n",
              "      <td>0.2</td>\n",
              "      <td>setosa</td>\n",
              "    </tr>\n",
              "    <tr>\n",
              "      <th>5</th>\n",
              "      <td>6</td>\n",
              "      <td>5.4</td>\n",
              "      <td>3.9</td>\n",
              "      <td>1.7</td>\n",
              "      <td>0.4</td>\n",
              "      <td>setosa</td>\n",
              "    </tr>\n",
              "    <tr>\n",
              "      <th>6</th>\n",
              "      <td>7</td>\n",
              "      <td>4.6</td>\n",
              "      <td>3.4</td>\n",
              "      <td>1.4</td>\n",
              "      <td>0.3</td>\n",
              "      <td>setosa</td>\n",
              "    </tr>\n",
              "    <tr>\n",
              "      <th>7</th>\n",
              "      <td>8</td>\n",
              "      <td>5.0</td>\n",
              "      <td>3.4</td>\n",
              "      <td>1.5</td>\n",
              "      <td>0.2</td>\n",
              "      <td>setosa</td>\n",
              "    </tr>\n",
              "    <tr>\n",
              "      <th>8</th>\n",
              "      <td>9</td>\n",
              "      <td>4.4</td>\n",
              "      <td>2.9</td>\n",
              "      <td>1.4</td>\n",
              "      <td>0.2</td>\n",
              "      <td>setosa</td>\n",
              "    </tr>\n",
              "    <tr>\n",
              "      <th>9</th>\n",
              "      <td>10</td>\n",
              "      <td>4.9</td>\n",
              "      <td>3.1</td>\n",
              "      <td>1.5</td>\n",
              "      <td>0.1</td>\n",
              "      <td>setosa</td>\n",
              "    </tr>\n",
              "  </tbody>\n",
              "</table>\n",
              "</div>\n",
              "    <div class=\"colab-df-buttons\">\n",
              "\n",
              "  <div class=\"colab-df-container\">\n",
              "    <button class=\"colab-df-convert\" onclick=\"convertToInteractive('df-551832ab-7182-46ed-aee7-9b463a2df395')\"\n",
              "            title=\"Convert this dataframe to an interactive table.\"\n",
              "            style=\"display:none;\">\n",
              "\n",
              "  <svg xmlns=\"http://www.w3.org/2000/svg\" height=\"24px\" viewBox=\"0 -960 960 960\">\n",
              "    <path d=\"M120-120v-720h720v720H120Zm60-500h600v-160H180v160Zm220 220h160v-160H400v160Zm0 220h160v-160H400v160ZM180-400h160v-160H180v160Zm440 0h160v-160H620v160ZM180-180h160v-160H180v160Zm440 0h160v-160H620v160Z\"/>\n",
              "  </svg>\n",
              "    </button>\n",
              "\n",
              "  <style>\n",
              "    .colab-df-container {\n",
              "      display:flex;\n",
              "      gap: 12px;\n",
              "    }\n",
              "\n",
              "    .colab-df-convert {\n",
              "      background-color: #E8F0FE;\n",
              "      border: none;\n",
              "      border-radius: 50%;\n",
              "      cursor: pointer;\n",
              "      display: none;\n",
              "      fill: #1967D2;\n",
              "      height: 32px;\n",
              "      padding: 0 0 0 0;\n",
              "      width: 32px;\n",
              "    }\n",
              "\n",
              "    .colab-df-convert:hover {\n",
              "      background-color: #E2EBFA;\n",
              "      box-shadow: 0px 1px 2px rgba(60, 64, 67, 0.3), 0px 1px 3px 1px rgba(60, 64, 67, 0.15);\n",
              "      fill: #174EA6;\n",
              "    }\n",
              "\n",
              "    .colab-df-buttons div {\n",
              "      margin-bottom: 4px;\n",
              "    }\n",
              "\n",
              "    [theme=dark] .colab-df-convert {\n",
              "      background-color: #3B4455;\n",
              "      fill: #D2E3FC;\n",
              "    }\n",
              "\n",
              "    [theme=dark] .colab-df-convert:hover {\n",
              "      background-color: #434B5C;\n",
              "      box-shadow: 0px 1px 3px 1px rgba(0, 0, 0, 0.15);\n",
              "      filter: drop-shadow(0px 1px 2px rgba(0, 0, 0, 0.3));\n",
              "      fill: #FFFFFF;\n",
              "    }\n",
              "  </style>\n",
              "\n",
              "    <script>\n",
              "      const buttonEl =\n",
              "        document.querySelector('#df-551832ab-7182-46ed-aee7-9b463a2df395 button.colab-df-convert');\n",
              "      buttonEl.style.display =\n",
              "        google.colab.kernel.accessAllowed ? 'block' : 'none';\n",
              "\n",
              "      async function convertToInteractive(key) {\n",
              "        const element = document.querySelector('#df-551832ab-7182-46ed-aee7-9b463a2df395');\n",
              "        const dataTable =\n",
              "          await google.colab.kernel.invokeFunction('convertToInteractive',\n",
              "                                                    [key], {});\n",
              "        if (!dataTable) return;\n",
              "\n",
              "        const docLinkHtml = 'Like what you see? Visit the ' +\n",
              "          '<a target=\"_blank\" href=https://colab.research.google.com/notebooks/data_table.ipynb>data table notebook</a>'\n",
              "          + ' to learn more about interactive tables.';\n",
              "        element.innerHTML = '';\n",
              "        dataTable['output_type'] = 'display_data';\n",
              "        await google.colab.output.renderOutput(dataTable, element);\n",
              "        const docLink = document.createElement('div');\n",
              "        docLink.innerHTML = docLinkHtml;\n",
              "        element.appendChild(docLink);\n",
              "      }\n",
              "    </script>\n",
              "  </div>\n",
              "\n",
              "\n",
              "<div id=\"df-84f482af-7eb1-4617-a010-ae369d6343cb\">\n",
              "  <button class=\"colab-df-quickchart\" onclick=\"quickchart('df-84f482af-7eb1-4617-a010-ae369d6343cb')\"\n",
              "            title=\"Suggest charts\"\n",
              "            style=\"display:none;\">\n",
              "\n",
              "<svg xmlns=\"http://www.w3.org/2000/svg\" height=\"24px\"viewBox=\"0 0 24 24\"\n",
              "     width=\"24px\">\n",
              "    <g>\n",
              "        <path d=\"M19 3H5c-1.1 0-2 .9-2 2v14c0 1.1.9 2 2 2h14c1.1 0 2-.9 2-2V5c0-1.1-.9-2-2-2zM9 17H7v-7h2v7zm4 0h-2V7h2v10zm4 0h-2v-4h2v4z\"/>\n",
              "    </g>\n",
              "</svg>\n",
              "  </button>\n",
              "\n",
              "<style>\n",
              "  .colab-df-quickchart {\n",
              "      --bg-color: #E8F0FE;\n",
              "      --fill-color: #1967D2;\n",
              "      --hover-bg-color: #E2EBFA;\n",
              "      --hover-fill-color: #174EA6;\n",
              "      --disabled-fill-color: #AAA;\n",
              "      --disabled-bg-color: #DDD;\n",
              "  }\n",
              "\n",
              "  [theme=dark] .colab-df-quickchart {\n",
              "      --bg-color: #3B4455;\n",
              "      --fill-color: #D2E3FC;\n",
              "      --hover-bg-color: #434B5C;\n",
              "      --hover-fill-color: #FFFFFF;\n",
              "      --disabled-bg-color: #3B4455;\n",
              "      --disabled-fill-color: #666;\n",
              "  }\n",
              "\n",
              "  .colab-df-quickchart {\n",
              "    background-color: var(--bg-color);\n",
              "    border: none;\n",
              "    border-radius: 50%;\n",
              "    cursor: pointer;\n",
              "    display: none;\n",
              "    fill: var(--fill-color);\n",
              "    height: 32px;\n",
              "    padding: 0;\n",
              "    width: 32px;\n",
              "  }\n",
              "\n",
              "  .colab-df-quickchart:hover {\n",
              "    background-color: var(--hover-bg-color);\n",
              "    box-shadow: 0 1px 2px rgba(60, 64, 67, 0.3), 0 1px 3px 1px rgba(60, 64, 67, 0.15);\n",
              "    fill: var(--button-hover-fill-color);\n",
              "  }\n",
              "\n",
              "  .colab-df-quickchart-complete:disabled,\n",
              "  .colab-df-quickchart-complete:disabled:hover {\n",
              "    background-color: var(--disabled-bg-color);\n",
              "    fill: var(--disabled-fill-color);\n",
              "    box-shadow: none;\n",
              "  }\n",
              "\n",
              "  .colab-df-spinner {\n",
              "    border: 2px solid var(--fill-color);\n",
              "    border-color: transparent;\n",
              "    border-bottom-color: var(--fill-color);\n",
              "    animation:\n",
              "      spin 1s steps(1) infinite;\n",
              "  }\n",
              "\n",
              "  @keyframes spin {\n",
              "    0% {\n",
              "      border-color: transparent;\n",
              "      border-bottom-color: var(--fill-color);\n",
              "      border-left-color: var(--fill-color);\n",
              "    }\n",
              "    20% {\n",
              "      border-color: transparent;\n",
              "      border-left-color: var(--fill-color);\n",
              "      border-top-color: var(--fill-color);\n",
              "    }\n",
              "    30% {\n",
              "      border-color: transparent;\n",
              "      border-left-color: var(--fill-color);\n",
              "      border-top-color: var(--fill-color);\n",
              "      border-right-color: var(--fill-color);\n",
              "    }\n",
              "    40% {\n",
              "      border-color: transparent;\n",
              "      border-right-color: var(--fill-color);\n",
              "      border-top-color: var(--fill-color);\n",
              "    }\n",
              "    60% {\n",
              "      border-color: transparent;\n",
              "      border-right-color: var(--fill-color);\n",
              "    }\n",
              "    80% {\n",
              "      border-color: transparent;\n",
              "      border-right-color: var(--fill-color);\n",
              "      border-bottom-color: var(--fill-color);\n",
              "    }\n",
              "    90% {\n",
              "      border-color: transparent;\n",
              "      border-bottom-color: var(--fill-color);\n",
              "    }\n",
              "  }\n",
              "</style>\n",
              "\n",
              "  <script>\n",
              "    async function quickchart(key) {\n",
              "      const quickchartButtonEl =\n",
              "        document.querySelector('#' + key + ' button');\n",
              "      quickchartButtonEl.disabled = true;  // To prevent multiple clicks.\n",
              "      quickchartButtonEl.classList.add('colab-df-spinner');\n",
              "      try {\n",
              "        const charts = await google.colab.kernel.invokeFunction(\n",
              "            'suggestCharts', [key], {});\n",
              "      } catch (error) {\n",
              "        console.error('Error during call to suggestCharts:', error);\n",
              "      }\n",
              "      quickchartButtonEl.classList.remove('colab-df-spinner');\n",
              "      quickchartButtonEl.classList.add('colab-df-quickchart-complete');\n",
              "    }\n",
              "    (() => {\n",
              "      let quickchartButtonEl =\n",
              "        document.querySelector('#df-84f482af-7eb1-4617-a010-ae369d6343cb button');\n",
              "      quickchartButtonEl.style.display =\n",
              "        google.colab.kernel.accessAllowed ? 'block' : 'none';\n",
              "    })();\n",
              "  </script>\n",
              "</div>\n",
              "\n",
              "    </div>\n",
              "  </div>\n"
            ],
            "application/vnd.google.colaboratory.intrinsic+json": {
              "type": "dataframe",
              "summary": "{\n  \"name\": \"display(iris_data\",\n  \"rows\": 10,\n  \"fields\": [\n    {\n      \"column\": \"rownames\",\n      \"properties\": {\n        \"dtype\": \"number\",\n        \"std\": 3,\n        \"min\": 1,\n        \"max\": 10,\n        \"num_unique_values\": 10,\n        \"samples\": [\n          9,\n          2,\n          6\n        ],\n        \"semantic_type\": \"\",\n        \"description\": \"\"\n      }\n    },\n    {\n      \"column\": \"Sepal.Length\",\n      \"properties\": {\n        \"dtype\": \"number\",\n        \"std\": 0.29135697844549546,\n        \"min\": 4.4,\n        \"max\": 5.4,\n        \"num_unique_values\": 7,\n        \"samples\": [\n          5.1,\n          4.9,\n          5.4\n        ],\n        \"semantic_type\": \"\",\n        \"description\": \"\"\n      }\n    },\n    {\n      \"column\": \"Sepal.Width\",\n      \"properties\": {\n        \"dtype\": \"number\",\n        \"std\": 0.30713731999438515,\n        \"min\": 2.9,\n        \"max\": 3.9,\n        \"num_unique_values\": 8,\n        \"samples\": [\n          3.0,\n          3.9,\n          3.5\n        ],\n        \"semantic_type\": \"\",\n        \"description\": \"\"\n      }\n    },\n    {\n      \"column\": \"Petal.Length\",\n      \"properties\": {\n        \"dtype\": \"number\",\n        \"std\": 0.10801234497346433,\n        \"min\": 1.3,\n        \"max\": 1.7,\n        \"num_unique_values\": 4,\n        \"samples\": [\n          1.3,\n          1.7,\n          1.4\n        ],\n        \"semantic_type\": \"\",\n        \"description\": \"\"\n      }\n    },\n    {\n      \"column\": \"Petal.Width\",\n      \"properties\": {\n        \"dtype\": \"number\",\n        \"std\": 0.07888106377466154,\n        \"min\": 0.1,\n        \"max\": 0.4,\n        \"num_unique_values\": 4,\n        \"samples\": [\n          0.4,\n          0.1,\n          0.2\n        ],\n        \"semantic_type\": \"\",\n        \"description\": \"\"\n      }\n    },\n    {\n      \"column\": \"Species\",\n      \"properties\": {\n        \"dtype\": \"category\",\n        \"num_unique_values\": 1,\n        \"samples\": [\n          \"setosa\"\n        ],\n        \"semantic_type\": \"\",\n        \"description\": \"\"\n      }\n    }\n  ]\n}"
            }
          },
          "metadata": {}
        }
      ],
      "source": [
        "# Step 1: Load and prepare the data\n",
        "iris_data = pd.read_csv('http://vincentarelbundock.github.io/Rdatasets/csv/datasets/iris.csv')\n",
        "display(iris_data.head(10))"
      ]
    },
    {
      "cell_type": "code",
      "execution_count": 18,
      "id": "0ba140ed",
      "metadata": {
        "colab": {
          "base_uri": "https://localhost:8080/"
        },
        "id": "0ba140ed",
        "outputId": "822aa536-cceb-48e5-a6d4-792bb887900c"
      },
      "outputs": [
        {
          "output_type": "stream",
          "name": "stdout",
          "text": [
            "\n",
            "Model 1: 2 hidden layers with 16 neurons each\n"
          ]
        },
        {
          "output_type": "stream",
          "name": "stderr",
          "text": [
            "/usr/local/lib/python3.10/dist-packages/keras/src/layers/core/dense.py:87: UserWarning: Do not pass an `input_shape`/`input_dim` argument to a layer. When using Sequential models, prefer using an `Input(shape)` object as the first layer in the model instead.\n",
            "  super().__init__(activity_regularizer=activity_regularizer, **kwargs)\n"
          ]
        },
        {
          "output_type": "stream",
          "name": "stdout",
          "text": [
            "Model 1 Test Accuracy: 0.967\n"
          ]
        }
      ],
      "source": [
        "\n",
        "# Feature matrix (X) and target vector (y)\n",
        "X = iris_data.iloc[:, 0:4].values\n",
        "y = pd.get_dummies(iris_data['Species']).values\n",
        "\n",
        "# Split data into training and testing sets\n",
        "X_train, X_test, y_train, y_test = train_test_split(X, y, test_size=0.2, random_state=42)\n",
        "\n",
        "# Step 2: Define and train Model 1\n",
        "print(\"\\nModel 1: 2 hidden layers with 16 neurons each\")\n",
        "model1 = Sequential([\n",
        "    Dense(16, activation='relu', input_shape=(4,)),\n",
        "    Dense(16, activation='relu'),\n",
        "    Dense(3, activation='softmax')\n",
        "])\n",
        "\n",
        "model1.compile(optimizer='adam', loss='categorical_crossentropy', metrics=['accuracy'])\n",
        "history1 = model1.fit(X_train, y_train, epochs=100, batch_size=32, validation_split=0.2, verbose=0)\n",
        "accuracy1 = model1.evaluate(X_test, y_test, verbose=0)[1]\n",
        "print(f\"Model 1 Test Accuracy: {accuracy1:.3f}\")\n"
      ]
    },
    {
      "cell_type": "code",
      "execution_count": 19,
      "id": "e4977391",
      "metadata": {
        "colab": {
          "base_uri": "https://localhost:8080/"
        },
        "id": "e4977391",
        "outputId": "38cd4f74-38aa-4d21-e29f-a4b40c8dfc43"
      },
      "outputs": [
        {
          "output_type": "stream",
          "name": "stdout",
          "text": [
            "\n",
            "Model 2: 3 hidden layers with 32 neurons each\n",
            "Model 2 Test Accuracy: 1.000\n"
          ]
        }
      ],
      "source": [
        "print(\"\\nModel 2: 3 hidden layers with 32 neurons each\")\n",
        "model2 = Sequential([\n",
        "    Dense(32, activation='relu', input_shape=(4,)),\n",
        "    Dense(32, activation='relu'),\n",
        "    Dense(32, activation='relu'),\n",
        "    Dense(3, activation='softmax')\n",
        "])\n",
        "\n",
        "model2.compile(optimizer='adam', loss='categorical_crossentropy', metrics=['accuracy'])\n",
        "history2 = model2.fit(X_train, y_train, epochs=100, batch_size=32, validation_split=0.2, verbose=0)\n",
        "accuracy2 = model2.evaluate(X_test, y_test, verbose=0)[1]\n",
        "print(f\"Model 2 Test Accuracy: {accuracy2:.3f}\")"
      ]
    },
    {
      "cell_type": "code",
      "execution_count": 20,
      "id": "ee70c3d5",
      "metadata": {
        "colab": {
          "base_uri": "https://localhost:8080/"
        },
        "id": "ee70c3d5",
        "outputId": "b9c1c2e9-b127-42e6-89aa-007fb0dc434b"
      },
      "outputs": [
        {
          "output_type": "stream",
          "name": "stdout",
          "text": [
            "\n",
            "Model 3: 1 hidden layer with 64 neurons\n",
            "Model 3 Test Accuracy: 0.900\n"
          ]
        }
      ],
      "source": [
        "print(\"\\nModel 3: 1 hidden layer with 64 neurons\")\n",
        "model3 = Sequential([\n",
        "    Dense(64, activation='relu', input_shape=(4,)),\n",
        "    Dense(3, activation='softmax')\n",
        "])\n",
        "\n",
        "model3.compile(optimizer='adam', loss='categorical_crossentropy', metrics=['accuracy'])\n",
        "history3 = model3.fit(X_train, y_train, epochs=100, batch_size=32, validation_split=0.2, verbose=0)\n",
        "accuracy3 = model3.evaluate(X_test, y_test, verbose=0)[1]\n",
        "print(f\"Model 3 Test Accuracy: {accuracy3:.3f}\")"
      ]
    },
    {
      "cell_type": "code",
      "execution_count": 22,
      "id": "8c21d161",
      "metadata": {
        "colab": {
          "base_uri": "https://localhost:8080/",
          "height": 581
        },
        "id": "8c21d161",
        "outputId": "76b3d33f-679a-4da6-e981-a9e8448ee9a5"
      },
      "outputs": [
        {
          "output_type": "execute_result",
          "data": {
            "text/plain": [
              "<matplotlib.legend.Legend at 0x7b0690155690>"
            ]
          },
          "metadata": {},
          "execution_count": 22
        },
        {
          "output_type": "display_data",
          "data": {
            "text/plain": [
              "<Figure size 1200x600 with 1 Axes>"
            ],
            "image/png": "[encoded data removed]"
          },
          "metadata": {}
        }
      ],
      "source": [
        "import matplotlib.pyplot as plt\n",
        "plt.figure(figsize=(12, 6))\n",
        "\n",
        "# Training Loss\n",
        "plt.subplot(1, 2, 1)\n",
        "plt.plot(history1.history['loss'], label='Model 1')\n",
        "plt.plot(history2.history['loss'], label='Model 2')\n",
        "plt.plot(history3.history['loss'], label='Model 3')\n",
        "plt.title('Training Loss Over Epochs')\n",
        "plt.xlabel('Epoch')\n",
        "plt.ylabel('Loss')\n",
        "plt.legend()\n"
      ]
    },
    {
      "cell_type": "code",
      "source": [
        "# Training Accuracy\n",
        "plt.subplot(1, 2, 2)\n",
        "plt.plot(history1.history['accuracy'], label='Model 1')\n",
        "plt.plot(history2.history['accuracy'], label='Model 2')\n",
        "plt.plot(history3.history['accuracy'], label='Model 3')\n",
        "plt.title('Training Accuracy Over Epochs')\n",
        "plt.xlabel('Epoch')\n",
        "plt.ylabel('Accuracy')\n",
        "plt.legend()\n",
        "\n",
        "plt.tight_layout()\n",
        "plt.show()\n"
      ],
      "metadata": {
        "colab": {
          "base_uri": "https://localhost:8080/",
          "height": 487
        },
        "id": "zU9v8l2gLX3U",
        "outputId": "f9d1906c-d244-45d3-ab8e-3c3f5349fff1"
      },
      "id": "zU9v8l2gLX3U",
      "execution_count": 23,
      "outputs": [
        {
          "output_type": "display_data",
          "data": {
            "text/plain": [
              "<Figure size 640x480 with 1 Axes>"
            ],
            "image/png": "[encoded data removed]"
          },
          "metadata": {}
        }
      ]
    },
    {
      "cell_type": "code",
      "source": [
        "print(\"\\nComparison of Test Accuracies:\")\n",
        "print(f\"Model 1: {accuracy1:.3f}\")\n",
        "print(f\"Model 2: {accuracy2:.3f}\")\n",
        "print(f\"Model 3: {accuracy3:.3f}\")"
      ],
      "metadata": {
        "colab": {
          "base_uri": "https://localhost:8080/"
        },
        "id": "eohP_O-xLaRl",
        "outputId": "3f935d91-86de-4499-ef0c-0a7e9d43c14e"
      },
      "id": "eohP_O-xLaRl",
      "execution_count": 24,
      "outputs": [
        {
          "output_type": "stream",
          "name": "stdout",
          "text": [
            "\n",
            "Comparison of Test Accuracies:\n",
            "Model 1: 0.967\n",
            "Model 2: 1.000\n",
            "Model 3: 0.900\n"
          ]
        }
      ]
    },
    {
      "cell_type": "markdown",
      "source": [
        "so model 2 is really perfect,it is the best-performing model. The additional depth (3 layers) and width (32 neurons per layer) allow the model to fully capture the complexity of the dataset. This is particularly effective since the Iris dataset is relatively small and clean, making it easier to fit without overfitting.\n",
        "\n",
        "Model1 is better than Model3, The reason may because the lack of additional hidden layers may limit its ability to capture complex patterns. This could also indicate that increasing the number of neurons in a single layer doesn't compensate for depth in some cases.\n"
      ],
      "metadata": {
        "id": "Glm2MPw-LqmL"
      },
      "id": "Glm2MPw-LqmL"
    }
  ],
  "metadata": {
    "kernelspec": {
      "display_name": "Python 3 (ipykernel)",
      "language": "python",
      "name": "python3"
    },
    "language_info": {
      "codemirror_mode": {
        "name": "ipython",
        "version": 3
      },
      "file_extension": ".py",
      "mimetype": "text/x-python",
      "name": "python",
      "nbconvert_exporter": "python",
      "pygments_lexer": "ipython3",
      "version": "3.8.3"
    },
    "colab": {
      "provenance": []
    }
  },
  "nbformat": 4,
  "nbformat_minor": 5
}